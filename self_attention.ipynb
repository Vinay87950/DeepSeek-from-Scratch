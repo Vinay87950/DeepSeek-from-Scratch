{
 "cells": [
  {
   "cell_type": "markdown",
   "id": "ce807224",
   "metadata": {},
   "source": [
    "**Self Attention, what it is ?**\n",
    "- As the name states, attention which means empowering something to focus on important parts of the something. So in deep learning we focus more on input data. At first attention mechanism was introduced for RNN's for handling longer sequence to sequence information, but the problem arise with the text having a context, so for like ...if we do some kind of text translation, where the context of each word of occuring in a sentence. So that's why we needed context vector, which contains all the necessary information of the text. \n",
    "\n",
    "1. **Multiplicative Attention (Dot-Product Attention)** : so in here, we do the simple dot product of query and key vectors. The formula is given by :\n",
    "\n",
    "    Attention(Q, K, V) = softmax(QK^T)V\n",
    "\n",
    "    But the problem arises doing this, as the dimensions of the vector increases, the variance of dot product also increases. So when passed through the softmax function, can lead to higher probabilites being assigned to higher values and lower probabilities to lower values. To overcome this we do scaled dot product mechanism. \n",
    "2. **Scaled Dot-Product Attention** : So this is the popular self-attention mechanism. It Computes attention score taking dot product of query, key and value vector. And it scales the dot product by the square root of the dimension of the key vectors. \n",
    "\n",
    "Attention(Q,K,V)=softmax(QKT/√dk​)V\n",
    "\n",
    "So the purpose of doing so is to stablizing the training process and prevent the dot product to become too large or too small.\n",
    "\n",
    "\n"
   ]
  },
  {
   "cell_type": "code",
   "execution_count": 1,
   "id": "6ecbb7be-0c8d-4979-a02b-8dd09a3bdd6e",
   "metadata": {},
   "outputs": [
    {
     "name": "stdout",
     "output_type": "stream",
     "text": [
      "PyTorch version: 2.6.0+cu124\n",
      "CUDA: True\n",
      "Device name: NVIDIA A100-PCIE-40GB\n"
     ]
    }
   ],
   "source": [
    "# implemting self-attention in transformers\n",
    "\n",
    "import torch\n",
    "from torch import nn\n",
    "import torch.nn.functional as F \n",
    "import math\n",
    "\n",
    "print(f\"PyTorch version: {torch.__version__}\")\n",
    "print(f\"CUDA: {torch.cuda.is_available()}\")\n",
    "print(f\"Device name: {torch.cuda.get_device_name()}\")\n"
   ]
  },
  {
   "cell_type": "code",
   "execution_count": 2,
   "id": "f810c5aa",
   "metadata": {},
   "outputs": [
    {
     "name": "stdout",
     "output_type": "stream",
     "text": [
      "[0.8360188  0.11314284 0.05083836]\n"
     ]
    }
   ],
   "source": [
    "## simple softmax function \n",
    "import numpy as np\n",
    "\n",
    "def softmax_function(x):\n",
    "    \"\"\"Compute softmax values for each sets of scores in x.\"\"\"\n",
    "    e_x = np.exp(x - np.max(x))\n",
    "    return e_x / e_x.sum()\n",
    "\n",
    "scores = [3.0, 1.0, 0.2] ## so that's why we do scaling to get the probability upto the sum of 1, and that's what softmax function do.\n",
    "print(softmax_function(scores))"
   ]
  },
  {
   "cell_type": "code",
   "execution_count": 3,
   "id": "03eb332a",
   "metadata": {},
   "outputs": [
    {
     "name": "stdout",
     "output_type": "stream",
     "text": [
      "{'attention': 0, \"I'm\": 1, 'implementing': 2, 'mechanism': 3, 'self': 4}\n"
     ]
    }
   ],
   "source": [
    "# Data\n",
    "text_input = \"I'm implementing self attention mechanism\"\n",
    "words = text_input.replace(',', '').split()\n",
    "sorted_words = sorted(words, key=str.lower)  # sort ignoring case\n",
    "unique_indexes = {s: i for i, s in enumerate(sorted_words)}\n",
    "print(unique_indexes) # mapping each unqiue word in the sentence to its index in the alphabetically in a sorted list"
   ]
  },
  {
   "cell_type": "code",
   "execution_count": 4,
   "id": "f32f1633",
   "metadata": {},
   "outputs": [
    {
     "name": "stdout",
     "output_type": "stream",
     "text": [
      "\n",
      "Input as tensor:\n",
      "tensor([1, 2, 4, 0, 3])\n"
     ]
    }
   ],
   "source": [
    "# map the sentence to a tensor of these integer indices\n",
    "word_ids = [unique_indexes[word] for word in words]\n",
    "sentence_tensor = torch.tensor(word_ids)\n",
    "\n",
    "print(\"\\nInput as tensor:\")\n",
    "print(sentence_tensor)\n"
   ]
  },
  {
   "cell_type": "code",
   "execution_count": 5,
   "id": "05767155",
   "metadata": {},
   "outputs": [],
   "source": [
    "# so the above was the normal input, now introducing positional encoding\n",
    "import numpy as np \n",
    "\n",
    "class PositionalEncoding():\n",
    "    \"\"\"An implementation of sinusodial positional encoding, which basically utilised sine and cosine function\"\"\"\n",
    "    \n",
    "    def __init__(self,d_model, max_length, rounding):\n",
    "        self.d_model = d_model # no. of dimensions in each word embeddings (e.g 768)\n",
    "        self.max_length = max_length # no. of max tokens in a sequence (e.g 768)\n",
    "        self.rounding = rounding # simple decimal rounding\n",
    "    \n",
    "    def positional_encoding(self):\n",
    "        position = np.arange(0, self.max_length).reshape(self.max_length, 1) # each word postion in sentence\n",
    "        even_indices = np.arange(0, self.d_model, 2)\n",
    "        denominator = 10_000**(even_indices/self.d_model)\n",
    "\n",
    "        #for even indices we use sin formula and for odd we use cosine\n",
    "        even_encoding = np.sin(position/denominator)\n",
    "        odd_encoding = np.cos(position/denominator)\n",
    "\n",
    "        # merging both function together\n",
    "        merging = np.stack((even_encoding, odd_encoding), axis=2) # Shape: (max_len, d_model//2, 2)\n",
    "        positional_sincosine = merging.reshape(self.max_length, -1)\n",
    "\n",
    "        if self.d_model%2 == 1: # if the model shape is something odd means not (768 or so)\n",
    "            positional_sincosine = positional_sincosine[:,:-1]\n",
    "        return np.round(positional_sincosine, self.rounding)\n",
    "\n",
    "    def encoding(self, input_array):\n",
    "        \"Adding positional embeddings\"\n",
    "        pe = self.positional_encoding()\n",
    "        return input_array + pe\n"
   ]
  },
  {
   "cell_type": "code",
   "execution_count": 6,
   "id": "601c449c",
   "metadata": {},
   "outputs": [
    {
     "name": "stdout",
     "output_type": "stream",
     "text": [
      "Embedded sentence shape: (5, 6)\n",
      "[[0.87530112 0.70440315 0.95551812 0.49109194 0.06750429 0.11418206]\n",
      " [0.03778112 0.56095649 0.59754639 0.83275274 0.30393995 0.19931633]\n",
      " [0.80239909 0.28010868 0.85085248 0.99893606 0.40609261 0.68367776]\n",
      " [0.4407853  0.04167069 0.47231574 0.60103209 0.86341887 0.78693199]\n",
      " [0.67423978 0.77656349 0.89839589 0.18184988 0.95579641 0.09005941]]\n"
     ]
    }
   ],
   "source": [
    "embedding_dim = 6 \n",
    "max_length = len(word_ids)\n",
    "rounding = 4\n",
    "\n",
    "embedding_matrix = np.random.rand(len(unique_indexes), embedding_dim)\n",
    "embedding_sentence = np.array([embedding_matrix[word_id] for word_id in word_ids])\n",
    "print(f\"Embedded sentence shape: {embedding_sentence.shape}\")\n",
    "print(embedding_sentence)  # now this sentence is represented as 5x6 matrix, with each embedded into a 3-D vector\n",
    "\n",
    "pe_encoder = PositionalEncoding(d_model=embedding_dim, max_length=max_length, rounding=rounding)\n",
    "sentence_with_pe = pe_encoder.encoding(embedding_sentence)"
   ]
  },
  {
   "cell_type": "code",
   "execution_count": 7,
   "id": "d279adcc",
   "metadata": {},
   "outputs": [
    {
     "name": "stdout",
     "output_type": "stream",
     "text": [
      "\n",
      "=== Original Embeddings ===\n",
      "[[0.8753 0.7044 0.9555 0.4911 0.0675 0.1142]\n",
      " [0.0378 0.561  0.5975 0.8328 0.3039 0.1993]\n",
      " [0.8024 0.2801 0.8509 0.9989 0.4061 0.6837]\n",
      " [0.4408 0.0417 0.4723 0.601  0.8634 0.7869]\n",
      " [0.6742 0.7766 0.8984 0.1818 0.9558 0.0901]]\n",
      "\n",
      "=== Positional Encoding Added the final input for the transformer encoder===\n",
      "[[ 0.8753  1.7044  0.9555  1.4911  0.0675  1.1142]\n",
      " [ 0.8793  1.1013  0.6439  1.8317  0.3061  1.1993]\n",
      " [ 1.7117 -0.136   0.9436  1.9946  0.4104  1.6837]\n",
      " [ 0.5819 -0.9483  0.6111  1.5913  0.8699  1.7869]\n",
      " [-0.0826  0.123   1.083   1.1646  0.9644  1.0901]]\n",
      "\n",
      "=== Positional Encoding Matrix ===\n",
      "[[ 0.      1.      0.      1.      0.      1.    ]\n",
      " [ 0.8415  0.5403  0.0464  0.9989  0.0022  1.    ]\n",
      " [ 0.9093 -0.4161  0.0927  0.9957  0.0043  1.    ]\n",
      " [ 0.1411 -0.99    0.1388  0.9903  0.0065  1.    ]\n",
      " [-0.7568 -0.6536  0.1846  0.9828  0.0086  1.    ]]\n"
     ]
    }
   ],
   "source": [
    "# outputs \n",
    "\n",
    "print(\"\\n=== Original Embeddings ===\")\n",
    "print(np.round(embedding_sentence, rounding))\n",
    "\n",
    "print(\"\\n=== Positional Encoding Added the final input for the transformer encoder===\")\n",
    "print(np.round(sentence_with_pe, rounding))\n",
    "\n",
    "print(\"\\n=== Positional Encoding Matrix ===\")\n",
    "print(pe_encoder.positional_encoding())"
   ]
  },
  {
   "cell_type": "code",
   "execution_count": 8,
   "id": "1e8f7ee4",
   "metadata": {},
   "outputs": [
    {
     "data": {
      "image/png": "[encoded data removed]",
      "text/plain": [
       "<Figure size 576x480 with 2 Axes>"
      ]
     },
     "metadata": {},
     "output_type": "display_data"
    }
   ],
   "source": [
    "import matplotlib.pyplot as plt\n",
    "import math\n",
    "# Visualize embeddings with positional encoding\n",
    "cax = plt.matshow(sentence_with_pe, cmap='coolwarm')\n",
    "\n",
    "# Title and labels\n",
    "plt.title(f'Word Embeddings with Positional Encoding',\n",
    "          fontsize=10, pad=30)\n",
    "plt.ylabel('Word Position', fontsize=8)\n",
    "plt.xlabel('Embedding Dimension', fontsize=8)\n",
    "\n",
    "# Move x-axis to bottom\n",
    "plt.gca().xaxis.set_ticks_position('bottom')\n",
    "\n",
    "# Add colorbar\n",
    "plt.colorbar(cax, shrink=0.8, aspect=20, label='Encoding Value')\n",
    "\n",
    "# Improve layout\n",
    "# plt.tight_layout()\n",
    "\n",
    "# Show plot\n",
    "plt.show()\n",
    "\n",
    "# hard to visulaise pattern, due to small embedding_dim and the length..but it works this way "
   ]
  },
  {
   "cell_type": "code",
   "execution_count": 9,
   "id": "a25c55a1",
   "metadata": {},
   "outputs": [
    {
     "data": {
      "image/png": "[encoded data removed]",
      "text/plain": [
       "<Figure size 1000x400 with 4 Axes>"
      ]
     },
     "metadata": {},
     "output_type": "display_data"
    }
   ],
   "source": [
    "fig, (ax1, ax2) = plt.subplots(1, 2, figsize=(10, 4))\n",
    "\n",
    "# Original embeddings\n",
    "im1 = ax1.imshow(embedding_sentence, cmap='coolwarm', aspect='auto')\n",
    "ax1.set_title('Original Word Embeddings')\n",
    "ax1.set_ylabel('Words')\n",
    "ax1.set_xlabel('Embedding Dimension')\n",
    "ax1.set_yticks(range(len(words)))\n",
    "ax1.set_yticklabels(words)\n",
    "plt.colorbar(im1, ax=ax1)\n",
    "\n",
    "# With positional encoding\n",
    "im2 = ax2.imshow(sentence_with_pe, cmap='coolwarm', aspect='auto')\n",
    "ax2.set_title('Embeddings + Positional Encoding')\n",
    "ax2.set_ylabel('Words')\n",
    "ax2.set_xlabel('Embedding Dimension')\n",
    "ax2.set_yticks(range(len(words)))\n",
    "ax2.set_yticklabels(words)\n",
    "plt.colorbar(im2, ax=ax2)\n",
    "\n",
    "plt.tight_layout()\n",
    "plt.show()"
   ]
  },
  {
   "cell_type": "code",
   "execution_count": 10,
   "id": "82a6ebe2",
   "metadata": {},
   "outputs": [],
   "source": [
    "class SelfAttention(nn.Module):\n",
    "    def __init__(self,d_model, d_q, d_k, d_v):\n",
    "        super(SelfAttention, self).__init__()\n",
    "        self.d_model = d_model\n",
    "        self.d_q = d_q\n",
    "        self.d_k = d_k\n",
    "        self.d_v = d_v\n",
    "        self.w_query = nn.Parameter(torch.rand(d_model, d_q))\n",
    "        self.w_key = nn.Parameter(torch.rand(d_model, d_k))\n",
    "        self.w_value = nn.Parameter(torch.rand(d_model, d_v))\n",
    "\n",
    "    def forward(self, x):\n",
    "        if isinstance(x, np.ndarray):\n",
    "            x = torch.tensor(x, dtype=torch.float32)\n",
    "            \n",
    "        Q = x @ self.w_query\n",
    "        K = x @ self.w_key\n",
    "        V = x @ self.w_value\n",
    "        attention_score = Q @ K.T/math.sqrt(self.d_k)\n",
    "        attention_weights = F.softmax(attention_score, dim =-1)\n",
    "        context_vector = attention_weights @ V\n",
    "        return context_vector"
   ]
  },
  {
   "cell_type": "code",
   "execution_count": 11,
   "id": "437b3740",
   "metadata": {},
   "outputs": [
    {
     "name": "stdout",
     "output_type": "stream",
     "text": [
      "torch.Size([5, 3])\n",
      "tensor([[1.9710, 1.0905, 1.6680],\n",
      "        [1.9767, 1.1012, 1.6838],\n",
      "        [1.9914, 1.1088, 1.6859],\n",
      "        [1.9852, 1.1031, 1.6892],\n",
      "        [1.9709, 1.0930, 1.6673]], grad_fn=<MmBackward0>)\n"
     ]
    }
   ],
   "source": [
    "selfatt = SelfAttention(d_model=6,d_q=3,d_k=3,d_v=3)\n",
    "context = selfatt(embedding_sentence)\n",
    "print(context.shape)\n",
    "print(context)"
   ]
  },
  {
   "cell_type": "code",
   "execution_count": null,
   "id": "d29e435f",
   "metadata": {},
   "outputs": [],
   "source": []
  }
 ],
 "metadata": {
  "kernelspec": {
   "display_name": "Python 3",
   "language": "python",
   "name": "python3"
  },
  "language_info": {
   "codemirror_mode": {
    "name": "ipython",
    "version": 3
   },
   "file_extension": ".py",
   "mimetype": "text/x-python",
   "name": "python",
   "nbconvert_exporter": "python",
   "pygments_lexer": "ipython3",
   "version": "3.10.12"
  }
 },
 "nbformat": 4,
 "nbformat_minor": 5
}
