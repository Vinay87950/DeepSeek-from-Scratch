{
 "cells": [
  {
   "cell_type": "markdown",
   "id": "ce807224",
   "metadata": {},
   "source": [
    "**Self Attention, what it is ?**\n",
    "- As the name states, attention which means empowering something to focus on important parts of the something. So in deep learning we focus more on input data. At first attention mechanism was introduced for RNN's for handling longer sequence to sequence information, but the problem arise with the text having a context, so for like ...if we do some kind of text translation, where the context of each word of occuring in a sentence. So that's why we needed context vector, which contains all the necessary information of the text. \n",
    "\n",
    "1. **Multiplicative Attention (Dot-Product Attention)** : so in here, we do the simple dot product of query and key vectors. The formula is given by :\n",
    "\n",
    "    Attention(Q, K, V) = softmax(QK^T)V\n",
    "\n",
    "    But the problem arises doing this, as the dimensions of the vector increases, the variance of dot product also increases. So when passed through the softmax function, can lead to higher probabilites being assigned to higher values and lower probabilities to lower values. To overcome this we do scaled dot product mechanism. \n",
    "2. **Scaled Dot-Product Attention** : So this is the popular self-attention mechanism. It Computes attention score taking dot product of query, key and value vector. And it scales the dot product by the square root of the dimension of the key vectors. \n",
    "\n",
    "Attention(Q,K,V)=softmax(QKT/√dk​)V\n",
    "\n",
    "So the purpose of doing so is to stablizing the training process and prevent the dot product to become too large or too small.\n",
    "\n",
    "\n"
   ]
  },
  {
   "cell_type": "code",
   "execution_count": 5,
   "id": "6ecbb7be-0c8d-4979-a02b-8dd09a3bdd6e",
   "metadata": {},
   "outputs": [
    {
     "name": "stdout",
     "output_type": "stream",
     "text": [
      "PyTorch version: 2.6.0+cu124\n",
      "CUDA: True\n",
      "Device name: NVIDIA A100-PCIE-40GB\n"
     ]
    }
   ],
   "source": [
    "# implemting self-attention in transformers\n",
    "\n",
    "import torch\n",
    "from torch import nn\n",
    "\n",
    "print(f\"PyTorch version: {torch.__version__}\")\n",
    "print(f\"CUDA: {torch.cuda.is_available()}\")\n",
    "print(f\"Device name: {torch.cuda.get_device_name()}\")\n"
   ]
  },
  {
   "cell_type": "code",
   "execution_count": 6,
   "id": "f810c5aa",
   "metadata": {},
   "outputs": [
    {
     "name": "stdout",
     "output_type": "stream",
     "text": [
      "[0.8360188  0.11314284 0.05083836]\n"
     ]
    }
   ],
   "source": [
    "## simple softmax function \n",
    "import numpy as np\n",
    "\n",
    "def softmax_function(x):\n",
    "    \"\"\"Compute softmax values for each sets of scores in x.\"\"\"\n",
    "    e_x = np.exp(x - np.max(x))\n",
    "    return e_x / e_x.sum()\n",
    "\n",
    "scores = [3.0, 1.0, 0.2] ## so that's why we do scaling to get the probability upto the sum of 1, and that's what softmax function do.\n",
    "print(softmax_function(scores))"
   ]
  },
  {
   "cell_type": "code",
   "execution_count": 7,
   "id": "03eb332a",
   "metadata": {},
   "outputs": [
    {
     "name": "stdout",
     "output_type": "stream",
     "text": [
      "{'attention': 0, \"I'm\": 1, 'implementing': 2, 'mechanism': 3, 'self': 4}\n"
     ]
    }
   ],
   "source": [
    "# Data\n",
    "text_input = \"I'm implementing self attention mechanism\"\n",
    "words = text_input.replace(',', '').split()\n",
    "sorted_words = sorted(words, key=str.lower)  # sort ignoring case\n",
    "unique_indexes = {s: i for i, s in enumerate(sorted_words)}\n",
    "print(unique_indexes) # mapping each unqiue word in the sentence to its index in the alphabetically in a sorted list"
   ]
  },
  {
   "cell_type": "code",
   "execution_count": 11,
   "id": "f32f1633",
   "metadata": {},
   "outputs": [
    {
     "name": "stdout",
     "output_type": "stream",
     "text": [
      "\n",
      "Input as tensor:\n",
      "tensor([1, 2, 4, 0, 3])\n"
     ]
    }
   ],
   "source": [
    "# map the sentence to a tensor of these integer indices\n",
    "word_ids = [unique_indexes[word] for word in words]\n",
    "sentence_tensor = torch.tensor(word_ids)\n",
    "\n",
    "print(\"\\nInput as tensor:\")\n",
    "print(sentence_tensor)\n"
   ]
  },
  {
   "cell_type": "code",
   "execution_count": 16,
   "id": "05767155",
   "metadata": {},
   "outputs": [],
   "source": [
    "# so the above was the normal input, now introducing positional encoding\n",
    "import numpy as np \n",
    "\n",
    "class PositionalEncoding():\n",
    "    \"\"\"An implementation of sinusodial positional encoding, which basically utilised sine and cosine function\"\"\"\n",
    "    \n",
    "    def __init__(self,d_model, max_length, rounding):\n",
    "        self.d_model = d_model # no. of dimensions in each word embeddings (e.g 768)\n",
    "        self.max_length = max_length # no. of max tokens in a sequence (e.g 768)\n",
    "        self.rounding = rounding # simple decimal rounding\n",
    "    \n",
    "    def positional_encoding(self):\n",
    "        position = np.arange(0, self.max_length).reshape(self.max_length, 1) # each word postion in sentence\n",
    "        even_indices = np.arange(0, self.d_model, 2)\n",
    "        denominator = 10_000**(even_indices/self.d_model)\n",
    "\n",
    "        #for even indices we use sin formula and for odd we use cosine\n",
    "        even_encoding = np.sin(position/denominator)\n",
    "        odd_encoding = np.cos(position/denominator)\n",
    "\n",
    "        # merging both function together\n",
    "        merging = np.stack((even_encoding, odd_encoding), axis=2) # Shape: (max_len, d_model//2, 2)\n",
    "        positional_sincosine = merging.reshape(self.max_length, -1)\n",
    "\n",
    "        if self.d_model%2 == 1: # if the model shape is something odd means not (768 or so)\n",
    "            positional_sincosine = positional_sincosine[:,:-1]\n",
    "        return np.round(positional_sincosine, self.rounding)\n",
    "\n",
    "    def encoding(self, input_array):\n",
    "        \"Adding positional embeddings\"\n",
    "        pe = self.positional_encoding()\n",
    "        return input_array + pe\n"
   ]
  },
  {
   "cell_type": "code",
   "execution_count": 27,
   "id": "601c449c",
   "metadata": {},
   "outputs": [
    {
     "name": "stdout",
     "output_type": "stream",
     "text": [
      "Embedded sentence shape: (5, 6)\n",
      "[[0.58842677 0.16302423 0.60201306 0.51617137 0.47957402 0.78048664]\n",
      " [0.21212951 0.50879682 0.37868805 0.30565548 0.64384859 0.39036859]\n",
      " [0.83587646 0.64728376 0.24763855 0.19004436 0.01095074 0.49747004]\n",
      " [0.2488218  0.25927577 0.11656264 0.85695816 0.77347923 0.16372761]\n",
      " [0.89208023 0.59942616 0.84268003 0.81510141 0.39924087 0.94353243]]\n"
     ]
    }
   ],
   "source": [
    "embedding_dim = 6 \n",
    "max_length = len(word_ids)\n",
    "rounding = 4\n",
    "\n",
    "embedding_matrix = np.random.rand(len(unique_indexes), embedding_dim)\n",
    "embedding_sentence = np.array([embedding_matrix[word_id] for word_id in word_ids])\n",
    "print(f\"Embedded sentence shape: {embedding_sentence.shape}\")\n",
    "print(embedding_sentence)  # now this sentence is represented as 5x6 matrix, with each embedded into a 3-D vector\n",
    "\n",
    "pe_encoder = PositionalEncoding(d_model=embedding_dim, max_length=max_length, rounding=rounding)\n",
    "sentence_with_pe = pe_encoder.encoding(embedding_sentence)"
   ]
  },
  {
   "cell_type": "code",
   "execution_count": 23,
   "id": "d279adcc",
   "metadata": {},
   "outputs": [
    {
     "name": "stdout",
     "output_type": "stream",
     "text": [
      "\n",
      "=== Original Embeddings ===\n",
      "[[0.4026 0.0907 0.8843 0.1595 0.4519 0.1051]\n",
      " [0.1668 0.3653 0.3752 0.2015 0.5154 0.7974]\n",
      " [0.9733 0.443  0.3347 0.8494 0.3358 0.2039]\n",
      " [0.7319 0.9163 0.2394 0.8824 0.2398 0.1454]\n",
      " [0.1996 0.6598 0.0366 0.8069 0.6358 0.1577]]\n",
      "\n",
      "=== Positional Encoding Added the final input for the transformer encoder===\n",
      "[[ 0.4026  1.0907  0.8843  1.1595  0.4519  1.1051]\n",
      " [ 1.0083  0.9056  0.4216  1.2004  0.5176  1.7974]\n",
      " [ 1.8826  0.0269  0.4274  1.8451  0.3401  1.2039]\n",
      " [ 0.873  -0.0737  0.3782  1.8727  0.2463  1.1454]\n",
      " [-0.5572  0.0062  0.2212  1.7897  0.6444  1.1577]]\n",
      "\n",
      "=== Positional Encoding Matrix ===\n",
      "[[ 0.      1.      0.      1.      0.      1.    ]\n",
      " [ 0.8415  0.5403  0.0464  0.9989  0.0022  1.    ]\n",
      " [ 0.9093 -0.4161  0.0927  0.9957  0.0043  1.    ]\n",
      " [ 0.1411 -0.99    0.1388  0.9903  0.0065  1.    ]\n",
      " [-0.7568 -0.6536  0.1846  0.9828  0.0086  1.    ]]\n"
     ]
    }
   ],
   "source": [
    "# outputs \n",
    "\n",
    "print(\"\\n=== Original Embeddings ===\")\n",
    "print(np.round(embedding_sentence, rounding))\n",
    "\n",
    "print(\"\\n=== Positional Encoding Added the final input for the transformer encoder===\")\n",
    "print(np.round(sentence_with_pe, rounding))\n",
    "\n",
    "print(\"\\n=== Positional Encoding Matrix ===\")\n",
    "print(pe_encoder.positional_encoding())"
   ]
  },
  {
   "cell_type": "code",
   "execution_count": null,
   "id": "1e8f7ee4",
   "metadata": {},
   "outputs": [
    {
     "data": {
      "image/png": "[encoded data removed]",
      "text/plain": [
       "<Figure size 576x480 with 2 Axes>"
      ]
     },
     "metadata": {},
     "output_type": "display_data"
    }
   ],
   "source": [
    "import matplotlib.pyplot as plt\n",
    "\n",
    "# Visualize embeddings with positional encoding\n",
    "cax = plt.matshow(sentence_with_pe, cmap='coolwarm')\n",
    "\n",
    "# Title and labels\n",
    "plt.title(f'Word Embeddings with Positional Encoding\\n(d_model={embedding_dim}, max_length={max_length})',\n",
    "          fontsize=10, pad=30)\n",
    "plt.ylabel('Word Position', fontsize=8)\n",
    "plt.xlabel('Embedding Dimension', fontsize=8)\n",
    "\n",
    "# Move x-axis to bottom\n",
    "plt.gca().xaxis.set_ticks_position('bottom')\n",
    "\n",
    "# Add colorbar\n",
    "plt.colorbar(cax, shrink=0.8, aspect=20, label='Encoding Value')\n",
    "\n",
    "# Improve layout\n",
    "# plt.tight_layout()\n",
    "\n",
    "# Show plot\n",
    "plt.show()\n",
    "\n",
    "# hard to visulaise pattern, due to small embedding_dim and the length..but it works this way "
   ]
  },
  {
   "cell_type": "code",
   "execution_count": 10,
   "id": "82a6ebe2",
   "metadata": {},
   "outputs": [],
   "source": [
    "# def Self_Attention()"
   ]
  },
  {
   "cell_type": "code",
   "execution_count": null,
   "id": "437b3740",
   "metadata": {},
   "outputs": [],
   "source": []
  },
  {
   "cell_type": "code",
   "execution_count": null,
   "id": "d29e435f",
   "metadata": {},
   "outputs": [],
   "source": []
  }
 ],
 "metadata": {
  "kernelspec": {
   "display_name": "Python 3",
   "language": "python",
   "name": "python3"
  },
  "language_info": {
   "codemirror_mode": {
    "name": "ipython",
    "version": 3
   },
   "file_extension": ".py",
   "mimetype": "text/x-python",
   "name": "python",
   "nbconvert_exporter": "python",
   "pygments_lexer": "ipython3",
   "version": "3.10.12"
  }
 },
 "nbformat": 4,
 "nbformat_minor": 5
}
